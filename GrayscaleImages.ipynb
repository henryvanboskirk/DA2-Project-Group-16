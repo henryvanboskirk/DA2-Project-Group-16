{
 "cells": [
  {
   "cell_type": "code",
   "execution_count": 1,
   "metadata": {},
   "outputs": [
    {
     "name": "stdout",
     "output_type": "stream",
     "text": [
      "Defaulting to user installation because normal site-packages is not writeable\n",
      "Requirement already satisfied: tqdm in c:\\programdata\\anaconda3\\lib\\site-packages (4.65.0)\n",
      "Requirement already satisfied: colorama in c:\\programdata\\anaconda3\\lib\\site-packages (from tqdm) (0.4.6)\n",
      "Note: you may need to restart the kernel to use updated packages.\n"
     ]
    }
   ],
   "source": [
    "pip install tqdm"
   ]
  },
  {
   "cell_type": "code",
   "execution_count": 1,
   "metadata": {},
   "outputs": [
    {
     "name": "stderr",
     "output_type": "stream",
     "text": [
      "Converting images:   0%|          | 64/55489 [00:01<17:08, 53.91it/s]\n"
     ]
    },
    {
     "ename": "KeyboardInterrupt",
     "evalue": "",
     "output_type": "error",
     "traceback": [
      "\u001b[1;31m---------------------------------------------------------------------------\u001b[0m",
      "\u001b[1;31mKeyboardInterrupt\u001b[0m                         Traceback (most recent call last)",
      "Cell \u001b[1;32mIn[1], line 21\u001b[0m\n\u001b[0;32m     18\u001b[0m             save_path \u001b[38;5;241m=\u001b[39m os\u001b[38;5;241m.\u001b[39mpath\u001b[38;5;241m.\u001b[39mjoin(destination_directory, image)\n\u001b[0;32m     19\u001b[0m             grayscale_img\u001b[38;5;241m.\u001b[39msave(save_path)\n\u001b[1;32m---> 21\u001b[0m images_to_grayscale(source_directory, destination_directory)\n",
      "Cell \u001b[1;32mIn[1], line 16\u001b[0m, in \u001b[0;36mimages_to_grayscale\u001b[1;34m(source_directory, destination_directory)\u001b[0m\n\u001b[0;32m     14\u001b[0m \u001b[38;5;28;01mfor\u001b[39;00m image \u001b[38;5;129;01min\u001b[39;00m tqdm(images, desc\u001b[38;5;241m=\u001b[39m\u001b[38;5;124m'\u001b[39m\u001b[38;5;124mConverting images\u001b[39m\u001b[38;5;124m'\u001b[39m):\n\u001b[0;32m     15\u001b[0m     image_path \u001b[38;5;241m=\u001b[39m os\u001b[38;5;241m.\u001b[39mpath\u001b[38;5;241m.\u001b[39mjoin(source_directory, image)\n\u001b[1;32m---> 16\u001b[0m     \u001b[38;5;28;01mwith\u001b[39;00m Image\u001b[38;5;241m.\u001b[39mopen(image_path) \u001b[38;5;28;01mas\u001b[39;00m img:\n\u001b[0;32m     17\u001b[0m         grayscale_img \u001b[38;5;241m=\u001b[39m img\u001b[38;5;241m.\u001b[39mconvert(\u001b[38;5;124m'\u001b[39m\u001b[38;5;124mL\u001b[39m\u001b[38;5;124m'\u001b[39m)\n\u001b[0;32m     18\u001b[0m         save_path \u001b[38;5;241m=\u001b[39m os\u001b[38;5;241m.\u001b[39mpath\u001b[38;5;241m.\u001b[39mjoin(destination_directory, image)\n",
      "File \u001b[1;32mc:\\ProgramData\\anaconda3\\Lib\\site-packages\\PIL\\Image.py:3227\u001b[0m, in \u001b[0;36mopen\u001b[1;34m(fp, mode, formats)\u001b[0m\n\u001b[0;32m   3224\u001b[0m     filename \u001b[38;5;241m=\u001b[39m fp\n\u001b[0;32m   3226\u001b[0m \u001b[38;5;28;01mif\u001b[39;00m filename:\n\u001b[1;32m-> 3227\u001b[0m     fp \u001b[38;5;241m=\u001b[39m builtins\u001b[38;5;241m.\u001b[39mopen(filename, \u001b[38;5;124m\"\u001b[39m\u001b[38;5;124mrb\u001b[39m\u001b[38;5;124m\"\u001b[39m)\n\u001b[0;32m   3228\u001b[0m     exclusive_fp \u001b[38;5;241m=\u001b[39m \u001b[38;5;28;01mTrue\u001b[39;00m\n\u001b[0;32m   3230\u001b[0m \u001b[38;5;28;01mtry\u001b[39;00m:\n",
      "\u001b[1;31mKeyboardInterrupt\u001b[0m: "
     ]
    }
   ],
   "source": [
    "#training images convert to grayscale\n",
    "#change source directory and destination directory to your computer's path\n",
    "#source_directory is the directory where the images are stored\n",
    "#destination_directory is the directory where the grayscale images will be saved\n",
    "#tqdm is used to show the progress of the conversion in a progress bar\n",
    "#os helps do stuff with the files\n",
    "#PIL is Python Imaging Library\n",
    "#may need to pip install tqdm\n",
    "#def images_to_grayscale(source_directory, destination_directory) defines a function that converts images to grayscale\n",
    "#images = [img for img in os.listdir(source_directory) if img.endswith('.jpeg')] finds all files ending in jpeg and makes a biiig list\n",
    "#img.convert('L') converts the image to grayscale\n",
    "#img.save(save_path) saves the image to the destination directory\n",
    "#os.path.join(destination_directory, image) joins the destination directory and the image name to create the save path\n",
    "#it took around 21 minutes to convert training data to grayscale\n",
    "#the reason for converting to grayscale is that it reduces the amount of data that needs to be processed\n",
    "#gray scaling images reduces the information from [R,G,B] (3 dimensions) to one value between 0 and 255? (1 dimension)\n",
    "#dont run it unless the destination directory is empty, otherwise it will overwrite or duplicate, and windows file explorers is so slow it takes forever to correct\n",
    "#same process for test images\n",
    "import os\n",
    "from PIL import Image\n",
    "import numpy as np\n",
    "import pandas as pd\n",
    "from tqdm import tqdm\n",
    "\n",
    "source_directory = r\"E:\\Image Processings\\train_images\"\n",
    "destination_directory = r\"E:\\Image Processings\\train_images_grayscale\"\n",
    "\n",
    "def images_to_grayscale(source_directory, destination_directory):\n",
    "    images = [img for img in os.listdir(source_directory) if img.endswith('.jpeg')]\n",
    "    for image in tqdm(images, desc='Converting images'):\n",
    "        image_path = os.path.join(source_directory, image)\n",
    "        with Image.open(image_path) as img:\n",
    "            grayscale_img = img.convert('L')\n",
    "            save_path = os.path.join(destination_directory, image)\n",
    "            grayscale_img.save(save_path)\n",
    "\n",
    "images_to_grayscale(source_directory, destination_directory)\n"
   ]
  },
  {
   "cell_type": "code",
   "execution_count": 3,
   "metadata": {},
   "outputs": [
    {
     "name": "stderr",
     "output_type": "stream",
     "text": [
      "Converting images: 100%|██████████| 7133/7133 [01:38<00:00, 72.75it/s]\n"
     ]
    }
   ],
   "source": [
    "import os\n",
    "from PIL import Image\n",
    "import numpy as np\n",
    "import pandas as pd\n",
    "from tqdm import tqdm\n",
    "\n",
    "source_directory = r\"E:\\Image Processings\\test_images\"\n",
    "destination_directory = r\"E:\\Image Processings\\test_images_grayscale\"\n",
    "\n",
    "def images_to_grayscale(source_directory, destination_directory):\n",
    "    images = [img for img in os.listdir(source_directory) if img.endswith('.jpeg')]\n",
    "    for image in tqdm(images, desc='Converting images'):\n",
    "        image_path = os.path.join(source_directory, image)\n",
    "        with Image.open(image_path) as img:\n",
    "            grayscale_img = img.convert('L')\n",
    "            save_path = os.path.join(destination_directory, image)\n",
    "            grayscale_img.save(save_path)\n",
    "\n",
    "images_to_grayscale(source_directory, destination_directory)\n"
   ]
  },
  {
   "cell_type": "code",
   "execution_count": null,
   "metadata": {},
   "outputs": [],
   "source": []
  }
 ],
 "metadata": {
  "kernelspec": {
   "display_name": "base",
   "language": "python",
   "name": "python3"
  },
  "language_info": {
   "codemirror_mode": {
    "name": "ipython",
    "version": 3
   },
   "file_extension": ".py",
   "mimetype": "text/x-python",
   "name": "python",
   "nbconvert_exporter": "python",
   "pygments_lexer": "ipython3",
   "version": "3.11.5"
  }
 },
 "nbformat": 4,
 "nbformat_minor": 2
}
